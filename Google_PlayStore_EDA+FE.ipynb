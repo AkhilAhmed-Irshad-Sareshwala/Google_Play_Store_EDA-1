{
 "cells": [
  {
   "cell_type": "markdown",
   "id": "fa080294-2c81-4d91-8164-5e88d804403b",
   "metadata": {},
   "source": [
    "## EDA And Feature Engineering Of Google Play Store Dataset\n",
    "\n",
    "1) Problem statement.\n",
    "Today, 1.85 million different apps are available for users to download. Android users have even more from which to choose, with 2.56 million available through the Google Play Store. These apps have come to play a huge role in the way we live our lives today. Our Objective is to find the Most Popular Category, find the App with largest number of installs , the App with largest size etc.\n",
    "2) Data Collection.\n",
    "\n",
    "The data consists of 20 column and 10841 rows."
   ]
  },
  {
   "cell_type": "markdown",
   "id": "71a93717-ed58-4665-8a3e-1f363b636016",
   "metadata": {},
   "source": [
    "### Steps We Are Going to Follow\n",
    "1. Data Clearning\n",
    "2. Exploratory Data Analysis\n",
    "3. Featur eEngineering"
   ]
  },
  {
   "cell_type": "code",
   "execution_count": null,
   "id": "3dd1b839-9ce8-4bf2-9522-bc5f80828816",
   "metadata": {},
   "outputs": [],
   "source": [
    "import pandas as pd\n",
    "import numpy as np\n",
    "import matplotlib.pyplot as plt\n",
    "import seaborn as sns\n",
    "import warnings\n",
    "\n",
    "warnings.filterwarnings(\"ignore\")\n",
    "\n",
    "%matplotlib inline"
   ]
  },
  {
   "cell_type": "code",
   "execution_count": null,
   "id": "d207056b-3779-4faf-a6f8-8451a8dd619b",
   "metadata": {},
   "outputs": [],
   "source": [
    "df=pd.read_csv('https://raw.githubusercontent.com/krishnaik06/playstore-Dataset/main/googleplaystore.csv')\n",
    "df.head()"
   ]
  },
  {
   "cell_type": "code",
   "execution_count": null,
   "id": "05cd8df9-840e-4c45-8407-761878cf2606",
   "metadata": {},
   "outputs": [],
   "source": [
    "df.shape"
   ]
  },
  {
   "cell_type": "code",
   "execution_count": null,
   "id": "fbb110d2-fc63-4060-9f9e-4d494c2dcfe9",
   "metadata": {},
   "outputs": [],
   "source": [
    "df.info()"
   ]
  },
  {
   "cell_type": "code",
   "execution_count": null,
   "id": "5baed6d7-3674-41ba-8dd3-56f594616fce",
   "metadata": {},
   "outputs": [],
   "source": [
    "##summary of the dataset\n",
    "df.describe()"
   ]
  },
  {
   "cell_type": "code",
   "execution_count": null,
   "id": "3b4e5f04-3b35-4492-a3da-00079578c8f4",
   "metadata": {},
   "outputs": [],
   "source": [
    "##Missing Values\n",
    "df.isnull().sum()"
   ]
  },
  {
   "cell_type": "markdown",
   "id": "27778d46-4726-49a7-ba42-598ac99afcb0",
   "metadata": {},
   "source": [
    "## Insights and observation\n",
    "The dataset has msising values"
   ]
  },
  {
   "cell_type": "code",
   "execution_count": null,
   "id": "fa479e00-dbfe-4d27-a46d-9cc73d536e14",
   "metadata": {},
   "outputs": [],
   "source": [
    "df.head(2)"
   ]
  },
  {
   "cell_type": "markdown",
   "id": "ad006480-1882-4044-a080-4d0fc83cdca9",
   "metadata": {},
   "source": [
    "## Data Cleaning"
   ]
  },
  {
   "cell_type": "code",
   "execution_count": null,
   "id": "7fc38499-749d-4cb3-b763-68714281157c",
   "metadata": {},
   "outputs": [],
   "source": [
    "df['Reviews'].unique()"
   ]
  },
  {
   "cell_type": "code",
   "execution_count": null,
   "id": "0369b8b5-4210-4984-8162-ce1fe484675f",
   "metadata": {},
   "outputs": [],
   "source": [
    "df['Reviews'].astype(int)"
   ]
  },
  {
   "cell_type": "code",
   "execution_count": null,
   "id": "ce923f47-6662-421a-90bf-0bd5121a16f7",
   "metadata": {},
   "outputs": [],
   "source": [
    "df['Reviews'].str.isnumeric().sum()"
   ]
  },
  {
   "cell_type": "code",
   "execution_count": null,
   "id": "bb9eb96f-797d-4732-a79e-8c6e1e6c4157",
   "metadata": {},
   "outputs": [],
   "source": [
    "df[~df['Reviews'].str.isnumeric()]"
   ]
  },
  {
   "cell_type": "code",
   "execution_count": null,
   "id": "adf178b8-026d-43c0-9925-b13eeb99c0cc",
   "metadata": {},
   "outputs": [],
   "source": [
    "df_copy=df.copy()"
   ]
  },
  {
   "cell_type": "code",
   "execution_count": null,
   "id": "ca507847-61ea-4211-a7f0-8d4aed48088a",
   "metadata": {},
   "outputs": [],
   "source": [
    "df_copy=df_copy.drop(df_copy.index[10472])"
   ]
  },
  {
   "cell_type": "code",
   "execution_count": null,
   "id": "2b35b4d9-6434-4ac8-900f-9ae7409b9563",
   "metadata": {},
   "outputs": [],
   "source": [
    "df_copy[~df_copy['Reviews'].str.isnumeric()]"
   ]
  },
  {
   "cell_type": "code",
   "execution_count": null,
   "id": "fa846d5a-a433-4db1-9fa2-8044d8d51e57",
   "metadata": {},
   "outputs": [],
   "source": [
    "## Convert Review Datatype to int\n",
    "df_copy['Reviews']=df_copy['Reviews'].astype(int)"
   ]
  },
  {
   "cell_type": "code",
   "execution_count": null,
   "id": "483aa881-2758-43bf-b1f8-63b6324b5a64",
   "metadata": {},
   "outputs": [],
   "source": [
    "df_copy.info()"
   ]
  },
  {
   "cell_type": "code",
   "execution_count": null,
   "id": "940555bb-b6ee-4d4b-8655-cc396bec163a",
   "metadata": {},
   "outputs": [],
   "source": [
    "df_copy['Size'].unique()"
   ]
  },
  {
   "cell_type": "code",
   "execution_count": null,
   "id": "607dccda-a9ef-4b1c-9441-f98fa771262a",
   "metadata": {},
   "outputs": [],
   "source": [
    "19000K==19M"
   ]
  },
  {
   "cell_type": "code",
   "execution_count": null,
   "id": "4fd703ad-be33-436e-aafa-1fd9c33c365c",
   "metadata": {},
   "outputs": [],
   "source": [
    "df_copy['Size'].isnull().sum()"
   ]
  },
  {
   "cell_type": "code",
   "execution_count": null,
   "id": "8822b74e-b0d2-40b5-b549-999c7a83814f",
   "metadata": {},
   "outputs": [],
   "source": [
    "df_copy['Size']=df_copy['Size'].str.replace('M','000')\n",
    "df_copy['Size']=df_copy['Size'].str.replace('k','')\n",
    "df_copy['Size']=df_copy['Size'].replace('Varies with device',np.nan)\n",
    "df_copy['Size']=df_copy['Size'].astype(float)"
   ]
  },
  {
   "cell_type": "code",
   "execution_count": null,
   "id": "f658efe7-0bd9-41d2-b294-adce02247863",
   "metadata": {},
   "outputs": [],
   "source": [
    "df_copy['Size']"
   ]
  },
  {
   "cell_type": "code",
   "execution_count": null,
   "id": "b75adfe9-89f2-4f85-9403-3807d26ae705",
   "metadata": {},
   "outputs": [],
   "source": [
    "df_copy['Installs'].unique()"
   ]
  },
  {
   "cell_type": "code",
   "execution_count": null,
   "id": "109f5b79-e832-47db-9099-28a5240b6a32",
   "metadata": {},
   "outputs": [],
   "source": [
    "df_copy['Price'].unique()"
   ]
  },
  {
   "cell_type": "code",
   "execution_count": null,
   "id": "776387a6-abda-4820-a9b4-0757fae41dca",
   "metadata": {},
   "outputs": [],
   "source": [
    "chars_to_remove=['+',',','$']\n",
    "cols_to_clean=['Installs','Price']\n",
    "for item in chars_to_remove:\n",
    "    for cols in cols_to_clean:\n",
    "        df_copy[cols]=df_copy[cols].str.replace(item,'')"
   ]
  },
  {
   "cell_type": "code",
   "execution_count": null,
   "id": "28d03397-7d77-4d2d-a8cf-577d5b4b1f64",
   "metadata": {},
   "outputs": [],
   "source": [
    "df_copy['Price'].unique()"
   ]
  },
  {
   "cell_type": "code",
   "execution_count": null,
   "id": "0546efd9-7e6c-426d-91a4-23b08fb55c89",
   "metadata": {},
   "outputs": [],
   "source": [
    "df_copy['Installs'].unique()"
   ]
  },
  {
   "cell_type": "code",
   "execution_count": null,
   "id": "6de98012-3574-448b-8193-c0f3679b148f",
   "metadata": {},
   "outputs": [],
   "source": [
    "df_copy['Installs']=df_copy['Installs'].astype('int')\n",
    "df_copy['Price']=df_copy['Price'].astype('float')"
   ]
  },
  {
   "cell_type": "code",
   "execution_count": null,
   "id": "bb20e8bb-fb2a-4b7f-b6ce-b083cef51bd4",
   "metadata": {},
   "outputs": [],
   "source": [
    "df_copy.info()"
   ]
  },
  {
   "cell_type": "code",
   "execution_count": null,
   "id": "4e18f46c-6a4f-41f7-9850-409010fb837a",
   "metadata": {},
   "outputs": [],
   "source": [
    "## Handlling Last update feature\n",
    "df_copy['Last Updated'].unique()"
   ]
  },
  {
   "cell_type": "code",
   "execution_count": null,
   "id": "423159ad-4523-4d0f-863d-6ecfe11ebe73",
   "metadata": {},
   "outputs": [],
   "source": [
    "df_copy['Last Updated']=pd.to_datetime(df_copy['Last Updated'])\n",
    "df_copy['Day']=df_copy['Last Updated'].dt.day\n",
    "df_copy['Month']=df_copy['Last Updated'].dt.month\n",
    "df_copy['Year']=df_copy['Last Updated'].dt.year"
   ]
  },
  {
   "cell_type": "code",
   "execution_count": null,
   "id": "08af5ac9-c314-45c2-a30c-9865edc93544",
   "metadata": {},
   "outputs": [],
   "source": [
    "df_copy.info()"
   ]
  },
  {
   "cell_type": "code",
   "execution_count": null,
   "id": "9398ccc0-afd0-4a54-bf35-dfc4a80e07ff",
   "metadata": {},
   "outputs": [],
   "source": [
    "df_copy.head()"
   ]
  },
  {
   "cell_type": "code",
   "execution_count": null,
   "id": "03bcda42-b583-4ef5-9f2a-109110d9254a",
   "metadata": {},
   "outputs": [],
   "source": [
    "\n",
    "df_copy.to_csv('google_cleaned.csv')"
   ]
  },
  {
   "cell_type": "markdown",
   "id": "3f6c0f22-4826-492c-8595-b5620c099873",
   "metadata": {},
   "source": [
    "## EDA\n"
   ]
  },
  {
   "cell_type": "code",
   "execution_count": null,
   "id": "88132cf3-5593-46dc-b148-45f266705fb1",
   "metadata": {},
   "outputs": [],
   "source": [
    "df_copy.head()"
   ]
  },
  {
   "cell_type": "code",
   "execution_count": null,
   "id": "1536ab91-8958-490c-8247-a54f38fa612c",
   "metadata": {},
   "outputs": [],
   "source": [
    "df_copy[df_copy.duplicated('App')].shape"
   ]
  },
  {
   "cell_type": "markdown",
   "id": "02c5203d-6f51-4d75-9750-0a5227e5843e",
   "metadata": {},
   "source": [
    "## Observation\n",
    "The dataset has duplicate records"
   ]
  },
  {
   "cell_type": "code",
   "execution_count": null,
   "id": "a94f47ea-834b-4f32-ad5a-27af5336ad8a",
   "metadata": {},
   "outputs": [],
   "source": [
    "df_copy=df_copy.drop_duplicates(subset=['App'],keep='first')"
   ]
  },
  {
   "cell_type": "code",
   "execution_count": null,
   "id": "b1130195-f84b-449f-9e74-0bf9b0eccab7",
   "metadata": {},
   "outputs": [],
   "source": [
    "df_copy.shape"
   ]
  },
  {
   "cell_type": "markdown",
   "id": "9aefc01e-3aab-4789-bad7-2cc4aa79fd61",
   "metadata": {},
   "source": [
    "## Explore Data"
   ]
  },
  {
   "cell_type": "code",
   "execution_count": null,
   "id": "1ad40abe-9726-406f-adce-3009bb3598c8",
   "metadata": {},
   "outputs": [],
   "source": [
    "numeric_features = [feature for feature in df_copy.columns if df_copy[feature].dtype != 'O']\n",
    "categorical_features = [feature for feature in df_copy.columns if df_copy[feature].dtype == 'O']\n",
    "\n",
    "# print columns\n",
    "print('We have {} numerical features : {}'.format(len(numeric_features), numeric_features))\n",
    "print('\\nWe have {} categorical features : {}'.format(len(categorical_features), categorical_features))"
   ]
  },
  {
   "cell_type": "markdown",
   "id": "65713163-e590-4d0b-a712-7e5a3d47b45c",
   "metadata": {},
   "source": [
    "## 3.2 Feature Information\n",
    "1. App :- Name of the App\n",
    "2. Category :- Category under which the App falls.\n",
    "3. Rating :- Application's rating on playstore\n",
    "4. Reviews :- Number of reviews of the App.\n",
    "5. Size :- Size of the App.\n",
    "6. Install :- Number of Installs of the App\n",
    "7. Type :- If the App is free/paid\n",
    "8. Price :- Price of the app (0 if it is Free)\n",
    "9. Content Rating :- Appropiate Target Audience of the App.\n",
    "10. Genres:- Genre under which the App falls.\n",
    "11. Last Updated :- Date when the App was last updated\n",
    "12. Current Ver :- Current Version of the Application\n",
    "13. Android Ver :- Minimum Android Version required to run the App"
   ]
  },
  {
   "cell_type": "code",
   "execution_count": null,
   "id": "2c367a43-ff22-4972-8b71-47a8ab69dc70",
   "metadata": {},
   "outputs": [],
   "source": [
    "## Proportion of count data on categorical columns\n",
    "for col in categorical_features:\n",
    "    print(df[col].value_counts(normalize=True)*100)\n",
    "    print('---------------------------')"
   ]
  },
  {
   "cell_type": "code",
   "execution_count": null,
   "id": "f1edddf0-d7f6-4a7d-a1dd-a2a40e610e66",
   "metadata": {},
   "outputs": [],
   "source": [
    "## Proportion of count data on numerical columns\n",
    "plt.figure(figsize=(15, 15))\n",
    "plt.suptitle('Univariate Analysis of Numerical Features', fontsize=20, fontweight='bold', alpha=0.8, y=1.)\n",
    "\n",
    "for i in range(0, len(numeric_features)):\n",
    "    plt.subplot(5, 3, i+1)\n",
    "    sns.kdeplot(x=df_copy[numeric_features[i]],shade=True, color='r')\n",
    "    plt.xlabel(numeric_features[i])\n",
    "    plt.tight_layout()"
   ]
  },
  {
   "cell_type": "markdown",
   "id": "86e06ed7-ace5-427c-9f5b-70d981db0d0e",
   "metadata": {},
   "source": [
    "## Observations\n",
    "- Rating and Year is left skewed while Reviews,Size,Installs and Price are right skewed"
   ]
  },
  {
   "cell_type": "code",
   "execution_count": null,
   "id": "d1751eb0-4fa4-45c4-a450-5505a96338a3",
   "metadata": {},
   "outputs": [],
   "source": [
    "# categorical columns\n",
    "plt.figure(figsize=(20, 15))\n",
    "plt.suptitle('Univariate Analysis of Categorical Features', fontsize=20, fontweight='bold', alpha=0.8, y=1.)\n",
    "category = [ 'Type', 'Content Rating']\n",
    "for i in range(0, len(category)):\n",
    "    plt.subplot(2, 2, i+1)\n",
    "    sns.countplot(x=df[category[i]],palette=\"Set2\")\n",
    "    plt.xlabel(category[i])\n",
    "    plt.xticks(rotation=45)\n",
    "    plt.tight_layout() "
   ]
  },
  {
   "cell_type": "markdown",
   "id": "b55839f6-f59c-444a-b5a3-90961a61d9e9",
   "metadata": {},
   "source": [
    "## Which is the most popular app category?"
   ]
  },
  {
   "cell_type": "code",
   "execution_count": null,
   "id": "a25c8939-567b-447f-956a-965a1ee0cedd",
   "metadata": {},
   "outputs": [],
   "source": [
    "df_copy.head(2)"
   ]
  },
  {
   "cell_type": "code",
   "execution_count": null,
   "id": "60de1c7c-3d10-4cbe-86fe-0b4e48c069b2",
   "metadata": {},
   "outputs": [],
   "source": [
    "df_copy['Category'].value_counts().plot.pie(y=df_copy['Category'],figsize=(15,16),autopct='%1.1f')"
   ]
  },
  {
   "cell_type": "markdown",
   "id": "f59ec0d3-849d-46c3-885c-5395438fb1b6",
   "metadata": {},
   "source": [
    "## Observations\n",
    "\n",
    "1. There are more kinds of apps in playstore which are under category of family, games & tools\n",
    "2. Beatuty,comics,arts and weather kinds of apps are very less in playstore"
   ]
  },
  {
   "cell_type": "code",
   "execution_count": null,
   "id": "35a24d06-ae9c-4c1b-b456-e4320942e120",
   "metadata": {},
   "outputs": [],
   "source": [
    "## Top 10 App Categories\n",
    "category = pd.DataFrame(df_copy['Category'].value_counts())        #Dataframe of apps on the basis of category\n",
    "category.rename(columns = {'Category':'Count'},inplace=True)"
   ]
  },
  {
   "cell_type": "code",
   "execution_count": null,
   "id": "f462686b",
   "metadata": {},
   "outputs": [],
   "source": [
    "c = pd.DataFrame(df_copy['Category'].value_counts()).head(3)\n",
    "c"
   ]
  },
  {
   "cell_type": "code",
   "execution_count": null,
   "id": "eb98d695-7391-4e1f-b34e-4f5cdff2825c",
   "metadata": {},
   "outputs": [],
   "source": [
    "df_copy.info()"
   ]
  },
  {
   "cell_type": "code",
   "execution_count": null,
   "id": "a495beb0-6207-4818-975e-c05e769b61cb",
   "metadata": {},
   "outputs": [],
   "source": [
    "for i in range(0,3):\n",
    "    tapps = df_copy[df_copy['Category']==c.index[i]]['App'].head(5).values\n",
    "    tinstalls = df_copy[df_copy['Category']==c.index[i]]['Installs'].head(5).values\n",
    "    fd = pd.DataFrame(tapps,tinstalls)\n",
    "    \n",
    "    plt.subplot(2,2,i+1)\n",
    "    plt.bar(data=fd,x='tinstalls',height=100)"
   ]
  },
  {
   "cell_type": "markdown",
   "id": "44b19939-2c5e-4ea0-b815-91bc29c863f6",
   "metadata": {},
   "source": [
    "## Insights\n",
    "1. Family category has the most number of apps with 18% of apps belonging to it, followed by Games category which has 11% of the apps.\n",
    "2. Least number of apps belong to the Beauty category with less than 1% of the total apps belonging to it."
   ]
  },
  {
   "cell_type": "markdown",
   "id": "6f965499-ea62-4511-b54a-937f16f3b011",
   "metadata": {},
   "source": [
    "## Internal Assignments\n",
    "1. Which Category has largest number of installations??\n",
    "2. What are the Top 5 most installed Apps in Each popular Categories ??\n",
    "3. How many apps are there on Google Play Store which get 5 ratings??"
   ]
  },
  {
   "cell_type": "markdown",
   "id": "d8ef5f13-ae78-486b-be9f-17a9cde0280d",
   "metadata": {},
   "source": [
    "## Which Category has largest number of installations??"
   ]
  },
  {
   "cell_type": "code",
   "execution_count": null,
   "id": "e54a46c6-b697-45cc-88c0-1c4c51e93276",
   "metadata": {},
   "outputs": [],
   "source": [
    "df_cat_installs = df_copy.groupby(['Category'])['Installs'].sum().sort_values(ascending = False).reset_index()\n",
    "df_cat_installs.Installs = df_cat_installs.Installs/1000000000# converting into billions\n",
    "df2 = df_cat_installs.head(10)\n",
    "plt.figure(figsize = (14,10))\n",
    "sns.set_context(\"talk\")\n",
    "sns.set_style(\"darkgrid\")\n",
    "\n",
    "ax = sns.barplot(x = 'Installs' , y = 'Category' , data = df2 )\n",
    "ax.set_xlabel('No. of Installations in Billions')\n",
    "ax.set_ylabel('')\n",
    "ax.set_title(\"Most Popular Categories in Play Store\", size = 20)"
   ]
  },
  {
   "cell_type": "markdown",
   "id": "c7c00a37-2f3d-4e45-862e-378467fd4d47",
   "metadata": {},
   "source": [
    "## Insights\n",
    "1. Out of all the categories \"GAME\" has the most number of Installations.\n",
    "2. With almost 35 Billion Installations GAME is the most popular Category in Google App store"
   ]
  },
  {
   "cell_type": "markdown",
   "id": "1ae6aa79-94ce-44a0-aef5-02179e1c1880",
   "metadata": {},
   "source": [
    "## What are the Top 5 most installed Apps in Each popular Categories ??"
   ]
  },
  {
   "cell_type": "code",
   "execution_count": null,
   "id": "2d7b06e3-2ec4-4858-9d7a-71280bb38887",
   "metadata": {},
   "outputs": [],
   "source": [
    "dfa = df_copy.groupby(['Category' ,'App'])['Installs'].sum().reset_index()\n",
    "dfa = dfa.sort_values('Installs', ascending = False)\n",
    "apps = ['GAME', 'COMMUNICATION', 'PRODUCTIVITY', 'SOCIAL' ]\n",
    "sns.set_context(\"poster\")\n",
    "sns.set_style(\"darkgrid\")\n",
    "\n",
    "\n",
    "\n",
    "for i,app in enumerate(apps):\n",
    "    df2 = dfa[dfa.Category == app]\n",
    "    df3 = df2.head(5)\n",
    "    plt.subplot(4,2,i+1)\n",
    "    sns.barplot(data= df3,x= 'Installs' ,y='App' )\n",
    "    plt.xlabel('Installation in Millions')\n",
    "    plt.ylabel('')\n",
    "    plt.title(app,size = 20)\n",
    "    \n",
    "plt.tight_layout()\n",
    "plt.subplots_adjust(hspace= .3)\n",
    "plt.show()"
   ]
  },
  {
   "cell_type": "code",
   "execution_count": null,
   "id": "1a9a4317",
   "metadata": {},
   "outputs": [
    {
     "data": {
      "image/png": "[encoded data removed]",
      "text/plain": [
       "<Figure size 4000x3000 with 1 Axes>"
      ]
     },
     "metadata": {},
     "output_type": "display_data"
    }
   ],
   "source": [
    "cat = df_copy.groupby('Category')['Installs'].sum().sort_values(ascending=False).head(5)\n",
    "plt.figure(figsize=(40,30))\n",
    "for i in range(0,4):\n",
    "    plt.subplot(2,2,i+1)\n",
    "    c = df_copy[df_copy['Category']==cat.index[0]].groupby('App')['Installs'].sum().sort_values(ascending=False).head(4)\n",
    "    pd.DataFrame(c)\n",
    "    sns.pairplot(data=df_copy)\n",
    "    break"
   ]
  },
  {
   "cell_type": "code",
   "execution_count": null,
   "id": "eee29a85",
   "metadata": {},
   "outputs": [],
   "source": []
  },
  {
   "cell_type": "code",
   "execution_count": null,
   "id": "2d16ddd3",
   "metadata": {},
   "outputs": [],
   "source": []
  },
  {
   "cell_type": "markdown",
   "id": "6938eacd-68f2-49cc-b4d8-eccfb74268cb",
   "metadata": {},
   "source": [
    "## Insights\n",
    "- Most popular game is Subway Surfers.\n",
    "- Most popular communication app is Hangouts.\n",
    "- Most popular productivity app is Google Drive.\n",
    "- Most popular social app is Instagram."
   ]
  },
  {
   "cell_type": "markdown",
   "id": "ebadad12-87e8-432c-b9be-b78ae6cb7caf",
   "metadata": {},
   "source": [
    "## How many apps are there on Google Play Store which get 5 ratings??"
   ]
  },
  {
   "cell_type": "code",
   "execution_count": null,
   "id": "39747260-2695-4327-9b27-509469bdc1e3",
   "metadata": {},
   "outputs": [],
   "source": [
    "rating = df_copy.groupby(['Category','Installs', 'App'])['Rating'].sum().sort_values(ascending = False).reset_index()\n",
    "\n",
    "toprating_apps = rating[rating.Rating == 5.0]\n",
    "print(\"Number of 5 rated apps\",toprating_apps.shape[0])\n",
    "toprating_apps.head(1)"
   ]
  },
  {
   "cell_type": "markdown",
   "id": "ce62c9ef-2b4c-442e-8c5c-2275242891ae",
   "metadata": {},
   "source": [
    "## Result\n",
    "- There are 271 five rated apps on Google Play store\n",
    "- Top most is 'CT Brain Interpretation' from 'Family' Category"
   ]
  },
  {
   "cell_type": "code",
   "execution_count": null,
   "id": "e70ba629-5b45-4b2a-9f91-c47bd2d8fd53",
   "metadata": {},
   "outputs": [],
   "source": [
    "df_copy.head()"
   ]
  },
  {
   "cell_type": "code",
   "execution_count": null,
   "id": "df30ccc1-c936-4a9a-a442-0657c14100f2",
   "metadata": {},
   "outputs": [],
   "source": []
  }
 ],
 "metadata": {
  "kernelspec": {
   "display_name": "Python 3",
   "language": "python",
   "name": "python3"
  },
  "language_info": {
   "codemirror_mode": {
    "name": "ipython",
    "version": 3
   },
   "file_extension": ".py",
   "mimetype": "text/x-python",
   "name": "python",
   "nbconvert_exporter": "python",
   "pygments_lexer": "ipython3",
   "version": "3.12.3"
  }
 },
 "nbformat": 4,
 "nbformat_minor": 5
}
